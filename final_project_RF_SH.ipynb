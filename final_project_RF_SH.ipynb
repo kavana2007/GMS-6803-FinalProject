{
 "cells": [
  {
   "cell_type": "code",
   "execution_count": 1,
   "metadata": {},
   "outputs": [],
   "source": [
    "#DS Final Project: Random Forest Model\n",
    "##Shu Huang 11/23/2020\n",
    "\n",
    "import pandas as pd\n",
    "import numpy as np\n",
    "file_source='https://raw.githubusercontent.com/RaterBai/DS-Project/master/prepared%20datasets/'"
   ]
  },
  {
   "cell_type": "code",
   "execution_count": 2,
   "metadata": {},
   "outputs": [],
   "source": [
    "##Load full train & test datasets\n",
    "train=pd.read_csv(file_source+'train.csv',dtype=str)\n",
    "test=pd.read_csv(file_source+'test.csv',dtype=str)"
   ]
  },
  {
   "cell_type": "code",
   "execution_count": 3,
   "metadata": {},
   "outputs": [],
   "source": [
    "# convert all binary values into integer\n",
    "train.iloc[:,373:376]=train.iloc[:,373:376].astype(float).astype(int).astype(str)\n",
    "test.iloc[:,373:376]=test.iloc[:,373:376].astype(float).astype(int).astype(str)\n",
    "train=train.astype(int)\n",
    "test=test.astype(int)"
   ]
  },
  {
   "cell_type": "code",
   "execution_count": 4,
   "metadata": {},
   "outputs": [
    {
     "name": "stdout",
     "output_type": "stream",
     "text": [
      "train (615, 377)\n",
      "test (304, 377)\n"
     ]
    }
   ],
   "source": [
    "print('train', train.shape)\n",
    "print('test', test.shape)"
   ]
  },
  {
   "cell_type": "markdown",
   "metadata": {},
   "source": [
    "## Without Feature Selection"
   ]
  },
  {
   "cell_type": "code",
   "execution_count": 5,
   "metadata": {},
   "outputs": [],
   "source": [
    "train_x=train.iloc[:,1:376]\n",
    "train_y=train.iloc[:,376]\n",
    "test_x=test.iloc[:,1:376]\n",
    "test_y=test.iloc[:,376]"
   ]
  },
  {
   "cell_type": "code",
   "execution_count": 6,
   "metadata": {},
   "outputs": [
    {
     "data": {
      "text/plain": [
       "(Counter({1: 513, 0: 102}), Counter({1: 254, 0: 50}))"
      ]
     },
     "execution_count": 6,
     "metadata": {},
     "output_type": "execute_result"
    }
   ],
   "source": [
    "from collections import Counter\n",
    "Counter(train_y),Counter(test_y)"
   ]
  },
  {
   "cell_type": "code",
   "execution_count": 7,
   "metadata": {},
   "outputs": [
    {
     "data": {
      "text/plain": [
       "(0.19883040935672514, 0.1968503937007874)"
      ]
     },
     "execution_count": 7,
     "metadata": {},
     "output_type": "execute_result"
    }
   ],
   "source": [
    "102/513, 50/254\n",
    "#the strafied split is successful since the 0/1 ratio is similar"
   ]
  },
  {
   "cell_type": "code",
   "execution_count": 8,
   "metadata": {},
   "outputs": [],
   "source": [
    "##without feature selection\n",
    "\n",
    "# five-fold cross validation for parameter optimization: RandomizedSearchCV\n",
    "from sklearn.ensemble import RandomForestClassifier\n",
    "from sklearn.metrics import make_scorer, accuracy_score, precision_score, recall_score, f1_score, balanced_accuracy_score, roc_auc_score\n",
    "from sklearn.metrics import roc_auc_score\n",
    "from sklearn.model_selection import RandomizedSearchCV\n",
    "from sklearn.model_selection import StratifiedKFold\n",
    "from sklearn.metrics import confusion_matrix\n",
    "\n",
    "def five_fold_RSCV(clf, params, dx, dy):\n",
    "    cv_model = RandomizedSearchCV(clf, params, scoring='roc_auc', n_jobs=-1, \n",
    "                                  cv=StratifiedKFold(n_splits=5, shuffle=True, random_state=13), \n",
    "                                  verbose=1, iid=True, n_iter=100, refit=True)\n",
    "    \n",
    "    cv_model.fit(dx, dy)\n",
    "    y_pred=cv_model.predict(test_x)\n",
    "    \n",
    "    f1=f1_score(test_y, y_pred, average='weighted')\n",
    "    balanced_accuracy=balanced_accuracy_score(test_y, y_pred)\n",
    "    accuracy=accuracy_score(test_y, y_pred)\n",
    "    precision=precision_score(test_y, y_pred, average='weighted')\n",
    "    recall=recall_score(test_y, y_pred, average='weighted')\n",
    "    auc=roc_auc_score(test_y, y_pred)\n",
    "    matrix=confusion_matrix(test_y, y_pred)\n",
    "    \n",
    "    # performance\n",
    "    print(\"F1 weighted: %1.4f\" % f1)\n",
    "    print(\"Balanced Accuracy: %1.4f\" % balanced_accuracy)\n",
    "    print(\"Accuracy: %1.4f\" % accuracy)\n",
    "    print(\"Precision weighted: %1.4f\" % precision)\n",
    "    print(\"Recall weighted: %1.4f\" % recall)\n",
    "    print(\"AUC weighted: %1.4f\" % auc)\n",
    "    print(\"Confusion matrix: \", matrix)\n",
    "    \n",
    "    return cv_model.best_estimator_, cv_model.best_score_ # best_score_: Mean cross-validated score of the best_estimator"
   ]
  },
  {
   "cell_type": "code",
   "execution_count": 9,
   "metadata": {},
   "outputs": [
    {
     "name": "stdout",
     "output_type": "stream",
     "text": [
      "Fitting 5 folds for each of 100 candidates, totalling 500 fits\n"
     ]
    },
    {
     "name": "stderr",
     "output_type": "stream",
     "text": [
      "[Parallel(n_jobs=-1)]: Using backend LokyBackend with 8 concurrent workers.\n",
      "[Parallel(n_jobs=-1)]: Done  34 tasks      | elapsed:   16.9s\n",
      "[Parallel(n_jobs=-1)]: Done 184 tasks      | elapsed:  2.3min\n",
      "[Parallel(n_jobs=-1)]: Done 434 tasks      | elapsed:  4.8min\n",
      "[Parallel(n_jobs=-1)]: Done 500 out of 500 | elapsed:  5.7min finished\n"
     ]
    },
    {
     "name": "stdout",
     "output_type": "stream",
     "text": [
      "F1 weighted: 0.7496\n",
      "Balanced Accuracy: 0.5916\n",
      "Accuracy: 0.7336\n",
      "Precision weighted: 0.7706\n",
      "Recall weighted: 0.7336\n",
      "AUC weighted: 0.5916\n",
      "Confusion matrix:  [[ 19  31]\n",
      " [ 50 204]]\n"
     ]
    },
    {
     "data": {
      "text/plain": [
       "(RandomForestClassifier(bootstrap=True, class_weight='balanced',\n",
       "                        criterion='gini', max_depth=18, max_features=None,\n",
       "                        max_leaf_nodes=10, min_impurity_decrease=0.01,\n",
       "                        min_impurity_split=None, min_samples_leaf=1,\n",
       "                        min_samples_split=3, min_weight_fraction_leaf=0.0,\n",
       "                        n_estimators=500, n_jobs=None, oob_score=False,\n",
       "                        random_state=13, verbose=0, warm_start=False),\n",
       " 0.6565486786710895)"
      ]
     },
     "execution_count": 9,
     "metadata": {},
     "output_type": "execute_result"
    }
   ],
   "source": [
    "# random forest without feature selection\n",
    "rf = RandomForestClassifier(random_state=13)\n",
    "\n",
    "# define search space\n",
    "tuned_parameters = {'n_estimators':[50, 100, 250,  500, 750, 1000, 1250, 1500, 2000], \n",
    "                    'criterion':['gini', 'entropy'], \n",
    "                    'max_features':['log2', 'auto', None], \n",
    "                    'min_samples_split':[2, 3, 4], \n",
    "                    'max_depth': [3, 6, 9, 12, 15, 18, 21, 24, 32, None], \n",
    "                    'min_samples_leaf':[1, 2], \n",
    "                    'max_leaf_nodes': [None, 5, 10],\n",
    "                    'min_impurity_decrease':[0.1, 0.01, 0.001, 0.0001, 0.00001],\n",
    "                    'bootstrap': [True, False],\n",
    "                    'class_weight': [None, 'balanced', 'balanced_subsample']}\n",
    "\n",
    "\n",
    "best_rf_model, best_cv_performance = five_fold_RSCV(rf, tuned_parameters, train_x, train_y)\n",
    "best_rf_model, best_cv_performance"
   ]
  },
  {
   "cell_type": "code",
   "execution_count": 10,
   "metadata": {},
   "outputs": [
    {
     "name": "stdout",
     "output_type": "stream",
     "text": [
      "Feature ranking top 15:\n",
      "1. drug_17 (0.101312)\n",
      "2. drug_34 (0.076862)\n",
      "3. 440409 (0.050294)\n",
      "4. 432303 (0.047591)\n",
      "5. drug_26 (0.046237)\n",
      "6. 134398 (0.025801)\n",
      "7. 74114 (0.024667)\n",
      "8. drug_9 (0.023510)\n",
      "9. 72413 (0.022748)\n",
      "10. 75045 (0.020979)\n",
      "11. 380397 (0.016964)\n",
      "12. 443366 (0.016352)\n",
      "13. 40480217 (0.015493)\n",
      "14. gender (0.014596)\n",
      "15. 196471 (0.014466)\n"
     ]
    }
   ],
   "source": [
    "# Top 15 features\n",
    "importances = best_rf_model.feature_importances_\n",
    "std = np.std([tree.feature_importances_ for tree in best_rf_model.estimators_], axis=0)\n",
    "indices = np.argsort(importances)[::-1]\n",
    "\n",
    "# Print the top 15 feature ranking\n",
    "features=[]\n",
    "importance=[]\n",
    "print(\"Feature ranking top 15:\")\n",
    "for f in range(15):\n",
    "    print(\"%d. %s (%f)\" % (f + 1, train_x.columns[indices[f]], importances[indices[f]]))\n",
    "    selected=train_x.columns[indices[f]]\n",
    "    imp=importances[indices[f]]\n",
    "    features.append(selected)\n",
    "    importance.append(imp)"
   ]
  },
  {
   "cell_type": "code",
   "execution_count": 11,
   "metadata": {},
   "outputs": [
    {
     "data": {
      "text/plain": [
       "<Figure size 640x480 with 1 Axes>"
      ]
     },
     "metadata": {},
     "output_type": "display_data"
    }
   ],
   "source": [
    "imp_dict = {\n",
    "    'feature' : features,\n",
    "    'importance' : importance\n",
    "}\n",
    "df_imp = pd.DataFrame.from_dict(imp_dict)\n",
    "df_imp = df_imp.sort_values(by = ['importance'], ascending=False)\n",
    "\n",
    "# Plot the impurity-based feature importances of the forest\n",
    "import matplotlib.pyplot as plt\n",
    "plt.rcdefaults()\n",
    "fig, ax = plt.subplots()\n",
    "y_pos = np.arange(15)  # change\n",
    "ax.barh(y_pos, df_imp.importance, align = 'center', color = 'green', ecolor='black')\n",
    "ax.set_yticks(y_pos)\n",
    "ax.set_yticklabels(df_imp.feature)\n",
    "ax.invert_yaxis()\n",
    "ax.set_xlabel('Scaled Importance')\n",
    "ax.set_title('Variable Importance (without feature selection)')\n",
    "plt.show()"
   ]
  },
  {
   "cell_type": "code",
   "execution_count": 12,
   "metadata": {},
   "outputs": [],
   "source": [
    "# save model using pickle => binary saving method\n",
    "import pickle as pkl\n",
    "\n",
    "def save_pkl(data, file_name):\n",
    "    with open(file_name, \"wb\") as f: # wb is write binary mode\n",
    "        pkl.dump(data, f)\n",
    "        \n",
    "def load_pkl(file_name):\n",
    "    with open(file_name, \"rb\") as f:\n",
    "        data = pkl.load(f)\n",
    "    return data"
   ]
  },
  {
   "cell_type": "code",
   "execution_count": 13,
   "metadata": {},
   "outputs": [],
   "source": [
    "save_pkl(best_rf_model, \"rf_model.pkl\")\n",
    "best_rf_model = load_pkl(\"rf_model.pkl\")"
   ]
  },
  {
   "cell_type": "code",
   "execution_count": 14,
   "metadata": {},
   "outputs": [],
   "source": [
    "# roc_auc score and plot\n",
    "from sklearn.metrics import roc_auc_score, roc_curve, auc, accuracy_score\n",
    "import matplotlib.pyplot as plt\n",
    "from sklearn.linear_model import LogisticRegression\n",
    "\n",
    "def plot_auc_roc(fpr, tpr):\n",
    "    plt.figure()\n",
    "    lw = 2\n",
    "    plt.plot(fpr, tpr, color='darkorange',\n",
    "             lw=lw, label='ROC curve (area = {:0.4f})'.format(auc(fpr, tpr)))\n",
    "    plt.plot([0, 1], [0, 1], color='navy', lw=lw, linestyle='--')\n",
    "    plt.xlim([0.0, 1.0])\n",
    "    plt.ylim([0.0, 1.05])\n",
    "    plt.xlabel('False Positive Rate')\n",
    "    plt.ylabel('True Positive Rate')\n",
    "    plt.title('ROC Curve (without feature selection)')\n",
    "    plt.legend(loc=\"lower right\")\n",
    "    plt.show()\n",
    "\n",
    "def get_Younden_idx(fpr, tpr, threshold):\n",
    "    idx = np.argmax(np.abs(tpr-fpr))\n",
    "    return threshold[idx]\n",
    "    \n",
    "def roc_auc_analysis(clf, dx, dy):\n",
    "    preds = clf.predict_proba(dx) #predict: 0 or 1, predict_proba: [0.8, 0.2], predict probability for each class\n",
    "    preds = list(map(lambda x: x[-1], preds))\n",
    "    fpr, tpr, threshold = roc_curve(dy, preds)\n",
    "    plot_auc_roc(fpr, tpr)\n",
    "    print(\"first three predicted probabilities: \", preds[:3])\n",
    "    print(\"roc_auc_score: \", roc_auc_score(dy, preds))\n",
    "    J  = get_Younden_idx(fpr, tpr, threshold)\n",
    "    print(\"Youden index: \", J)\n",
    "\n",
    "    youden_preds = list(map(lambda x: 1 if x >= J else 0, preds))\n",
    "    print(\"first three youden predicted results: \", youden_preds[:3])\n",
    "    print(\"accuracy after apply youden index: \", accuracy_score(dy, youden_preds))\n",
    "    \n",
    "    if isinstance(clf, LogisticRegression):\n",
    "        cof = clf.coef_.tolist()[0]\n",
    "        cof_idx = list(zip(cof, range(len(cof)))) #get the coefficients\n",
    "        top_5_fea = sorted(cof_idx, key=lambda x: abs(x[0]), reverse=True)[:5]\n",
    "    elif isinstance(clf, RandomForestClassifier):\n",
    "        fea_imp = clf.feature_importances_\n",
    "        top_5_fea = sorted(list(zip(fea_imp, range(len(fea_imp)))), key=lambda x: abs(x[0]), reverse=True)[:5]\n",
    "    else: # SVM\n",
    "        # for SVM with RGB kernel, this is no straightforward way to get feature improtance\n",
    "        # https://stats.stackexchange.com/questions/265656/is-there-a-way-to-determine-the-important-features-weight-for-an-svm-that-uses\n",
    "        pass\n",
    "        top_5_fea = []\n",
    "    print(\"top 5 features: \", list(map(lambda x: (train_x.columns[x[1]], round(x[0], 4)), top_5_fea)))"
   ]
  },
  {
   "cell_type": "code",
   "execution_count": 15,
   "metadata": {},
   "outputs": [
    {
     "data": {
      "image/png": "[encoded data removed]",
      "text/plain": [
       "<Figure size 432x288 with 1 Axes>"
      ]
     },
     "metadata": {
      "needs_background": "light"
     },
     "output_type": "display_data"
    },
    {
     "name": "stdout",
     "output_type": "stream",
     "text": [
      "first three predicted probabilities:  [0.45251885598757186, 0.7822670729677355, 0.47912140603309195]\n",
      "roc_auc_score:  0.6310629921259843\n",
      "Youden index:  0.5525723054059193\n",
      "first three youden predicted results:  [0, 1, 0]\n",
      "accuracy after apply youden index:  0.6973684210526315\n",
      "top 5 features:  [('drug_17', 0.1013), ('drug_34', 0.0769), ('440409', 0.0503), ('432303', 0.0476), ('drug_26', 0.0462)]\n"
     ]
    }
   ],
   "source": [
    "# RF ROC Curve\n",
    "roc_auc_analysis(best_rf_model, test_x, test_y)"
   ]
  },
  {
   "cell_type": "markdown",
   "metadata": {},
   "source": [
    "## With feature selection"
   ]
  },
  {
   "cell_type": "code",
   "execution_count": 16,
   "metadata": {},
   "outputs": [],
   "source": [
    "##Get feature selected train & test datasets\n",
    "train_sel=pd.read_csv(file_source+'train_after_selection.csv',dtype=str)"
   ]
  },
  {
   "cell_type": "code",
   "execution_count": 17,
   "metadata": {},
   "outputs": [],
   "source": [
    "# convert all binary values into integer\n",
    "train_sel.iloc[:,240:242]=train_sel.iloc[:,240:242].astype(float).astype(int).astype(str)\n",
    "train_sel=train_sel.astype(int)"
   ]
  },
  {
   "cell_type": "code",
   "execution_count": 18,
   "metadata": {},
   "outputs": [],
   "source": [
    "# created feature selected test dataset using train_sel column names\n",
    "sel_top =list(train_sel.columns)\n",
    "test_sel = test[sel_top]"
   ]
  },
  {
   "cell_type": "code",
   "execution_count": 19,
   "metadata": {},
   "outputs": [
    {
     "name": "stdout",
     "output_type": "stream",
     "text": [
      "train_sel (615, 243)\n",
      "test_sel (304, 243)\n"
     ]
    }
   ],
   "source": [
    "print('train_sel', train_sel.shape)\n",
    "print('test_sel', test_sel.shape)"
   ]
  },
  {
   "cell_type": "code",
   "execution_count": 20,
   "metadata": {},
   "outputs": [],
   "source": [
    "train_xx=train_sel.iloc[:,0:242]\n",
    "train_yy=train_sel.iloc[:,242]\n",
    "test_xx=test_sel.iloc[:,0:242]\n",
    "test_yy=test_sel.iloc[:,242]"
   ]
  },
  {
   "cell_type": "code",
   "execution_count": 21,
   "metadata": {},
   "outputs": [],
   "source": [
    "##with feature selection\n",
    "\n",
    "# five-fold cross validation for parameter optimization: RandomizedSearchCV\n",
    "from sklearn.ensemble import RandomForestClassifier\n",
    "from sklearn.metrics import make_scorer, accuracy_score, precision_score, recall_score, f1_score, balanced_accuracy_score, roc_auc_score\n",
    "from sklearn.metrics import roc_auc_score\n",
    "from sklearn.model_selection import RandomizedSearchCV\n",
    "from sklearn.model_selection import StratifiedKFold\n",
    "from sklearn.metrics import confusion_matrix\n",
    "\n",
    "def five_fold_RSCV(clf, params, dx, dy):\n",
    "    cv_model = RandomizedSearchCV(clf, params, scoring='roc_auc', n_jobs=-1, \n",
    "                                  cv=StratifiedKFold(n_splits=5, shuffle=True, random_state=13), \n",
    "                                  verbose=1, iid=True, n_iter=100, refit=True)\n",
    "    \n",
    "    cv_model.fit(dx, dy)\n",
    "    y_pred=cv_model.predict(test_xx)\n",
    "    \n",
    "    f1=f1_score(test_yy, y_pred, average='weighted')\n",
    "    balanced_accuracy=balanced_accuracy_score(test_yy, y_pred)\n",
    "    accuracy=accuracy_score(test_yy, y_pred)\n",
    "    precision=precision_score(test_yy, y_pred, average='weighted')\n",
    "    recall=recall_score(test_yy, y_pred, average='weighted')\n",
    "    auc=roc_auc_score(test_yy, y_pred)\n",
    "    matrix=confusion_matrix(test_yy, y_pred)\n",
    "    \n",
    "    # performance\n",
    "    print(\"F1 weighted: %1.4f\" % f1)\n",
    "    print(\"Balanced Accuracy: %1.4f\" % balanced_accuracy)\n",
    "    print(\"Accuracy: %1.4f\" % accuracy)\n",
    "    print(\"Precision weighted: %1.4f\" % precision)\n",
    "    print(\"Recall weighted: %1.4f\" % recall)\n",
    "    print(\"AUC weighted: %1.4f\" % auc)\n",
    "    print(\"Confusion matrix: \", matrix)\n",
    "    \n",
    "    return cv_model.best_estimator_, cv_model.best_score_ # best_score_: Mean cross-validated score of the best_estimator"
   ]
  },
  {
   "cell_type": "code",
   "execution_count": 22,
   "metadata": {},
   "outputs": [
    {
     "name": "stdout",
     "output_type": "stream",
     "text": [
      "Fitting 5 folds for each of 100 candidates, totalling 500 fits\n"
     ]
    },
    {
     "name": "stderr",
     "output_type": "stream",
     "text": [
      "[Parallel(n_jobs=-1)]: Using backend LokyBackend with 8 concurrent workers.\n",
      "[Parallel(n_jobs=-1)]: Done  34 tasks      | elapsed:   19.9s\n",
      "[Parallel(n_jobs=-1)]: Done 184 tasks      | elapsed:  1.8min\n",
      "[Parallel(n_jobs=-1)]: Done 434 tasks      | elapsed:  4.5min\n",
      "[Parallel(n_jobs=-1)]: Done 500 out of 500 | elapsed:  5.0min finished\n"
     ]
    },
    {
     "name": "stdout",
     "output_type": "stream",
     "text": [
      "F1 weighted: 0.6728\n",
      "Balanced Accuracy: 0.5607\n",
      "Accuracy: 0.6283\n",
      "Precision weighted: 0.7545\n",
      "Recall weighted: 0.6283\n",
      "AUC weighted: 0.5607\n",
      "Confusion matrix:  [[ 23  27]\n",
      " [ 86 168]]\n"
     ]
    },
    {
     "data": {
      "text/plain": [
       "(RandomForestClassifier(bootstrap=False, class_weight='balanced_subsample',\n",
       "                        criterion='gini', max_depth=6, max_features=None,\n",
       "                        max_leaf_nodes=10, min_impurity_decrease=0.001,\n",
       "                        min_impurity_split=None, min_samples_leaf=2,\n",
       "                        min_samples_split=2, min_weight_fraction_leaf=0.0,\n",
       "                        n_estimators=1500, n_jobs=None, oob_score=False,\n",
       "                        random_state=13, verbose=0, warm_start=False),\n",
       " 0.6709175797558742)"
      ]
     },
     "execution_count": 22,
     "metadata": {},
     "output_type": "execute_result"
    }
   ],
   "source": [
    "# random forest without feature selection\n",
    "rf = RandomForestClassifier(random_state=13)\n",
    "\n",
    "# define search space\n",
    "tuned_parameters = {'n_estimators':[50, 100, 250,  500, 750, 1000, 1250, 1500, 2000], \n",
    "                    'criterion':['gini', 'entropy'], \n",
    "                    'max_features':['log2', 'auto', None], \n",
    "                    'min_samples_split':[2, 3, 4], \n",
    "                    'max_depth': [3, 6, 9, 12, 15, 18, 21, 24, 32, None], \n",
    "                    'min_samples_leaf':[1, 2], \n",
    "                    'max_leaf_nodes': [None, 5, 10],\n",
    "                    'min_impurity_decrease':[0.1, 0.01, 0.001, 0.0001, 0.00001],\n",
    "                    'bootstrap': [True, False],\n",
    "                    'class_weight': [None, 'balanced', 'balanced_subsample']}\n",
    "\n",
    "\n",
    "best_rf_model, best_cv_performance = five_fold_RSCV(rf, tuned_parameters, train_xx, train_yy)\n",
    "best_rf_model, best_cv_performance"
   ]
  },
  {
   "cell_type": "code",
   "execution_count": 23,
   "metadata": {},
   "outputs": [
    {
     "name": "stdout",
     "output_type": "stream",
     "text": [
      "Feature ranking top 15:\n",
      "1. 40480217 (0.212581)\n",
      "2. drug_34 (0.171960)\n",
      "3. 440409 (0.147500)\n",
      "4. drug_17 (0.138329)\n",
      "5. 432303 (0.099284)\n",
      "6. 372624 (0.089419)\n",
      "7. drug_13 (0.075659)\n",
      "8. 44782549 (0.065268)\n",
      "9. drug_15 (0.000000)\n",
      "10. 440987 (0.000000)\n",
      "11. 78472 (0.000000)\n",
      "12. 74373 (0.000000)\n",
      "13. 381572 (0.000000)\n",
      "14. 195197 (0.000000)\n",
      "15. 440940 (0.000000)\n"
     ]
    }
   ],
   "source": [
    "# Top 15 features\n",
    "importances = best_rf_model.feature_importances_\n",
    "std = np.std([tree.feature_importances_ for tree in best_rf_model.estimators_], axis=0)\n",
    "indices = np.argsort(importances)[::-1]\n",
    "\n",
    "# Print the top 15 feature ranking\n",
    "features=[]\n",
    "importance=[]\n",
    "print(\"Feature ranking top 15:\")\n",
    "for f in range(15):\n",
    "    print(\"%d. %s (%f)\" % (f + 1, train_xx.columns[indices[f]], importances[indices[f]]))\n",
    "    selected=train_xx.columns[indices[f]]\n",
    "    imp=importances[indices[f]]\n",
    "    features.append(selected)\n",
    "    importance.append(imp)"
   ]
  },
  {
   "cell_type": "code",
   "execution_count": 24,
   "metadata": {},
   "outputs": [
    {
     "data": {
      "image/png": "[encoded data removed]",
      "text/plain": [
       "<Figure size 640x480 with 1 Axes>"
      ]
     },
     "metadata": {},
     "output_type": "display_data"
    }
   ],
   "source": [
    "imp_dict = {\n",
    "    'feature' : features,\n",
    "    'importance' : importance\n",
    "}\n",
    "df_imp = pd.DataFrame.from_dict(imp_dict)\n",
    "df_imp = df_imp.sort_values(by = ['importance'], ascending=False)\n",
    "\n",
    "# Plot the impurity-based feature importances of the forest\n",
    "import matplotlib.pyplot as plt\n",
    "plt.rcdefaults()\n",
    "fig, ax = plt.subplots()\n",
    "y_pos = np.arange(15)  # change\n",
    "ax.barh(y_pos, df_imp.importance, align = 'center', color = 'green', ecolor='black')\n",
    "ax.set_yticks(y_pos)\n",
    "ax.set_yticklabels(df_imp.feature)\n",
    "ax.invert_yaxis()\n",
    "ax.set_xlabel('Scaled Importance')\n",
    "ax.set_title('Variable Importance (with feature selection)')\n",
    "plt.show()"
   ]
  },
  {
   "cell_type": "code",
   "execution_count": 25,
   "metadata": {},
   "outputs": [],
   "source": [
    "save_pkl(best_rf_model, \"rf_model.pkl\")\n",
    "best_rf_model = load_pkl(\"rf_model.pkl\")"
   ]
  },
  {
   "cell_type": "code",
   "execution_count": 26,
   "metadata": {},
   "outputs": [],
   "source": [
    "# roc_auc score and plot\n",
    "def plot_auc_roc(fpr, tpr):\n",
    "    plt.figure()\n",
    "    lw = 2\n",
    "    plt.plot(fpr, tpr, color='darkorange',\n",
    "             lw=lw, label='ROC curve (area = {:0.4f})'.format(auc(fpr, tpr)))\n",
    "    plt.plot([0, 1], [0, 1], color='navy', lw=lw, linestyle='--')\n",
    "    plt.xlim([0.0, 1.0])\n",
    "    plt.ylim([0.0, 1.05])\n",
    "    plt.xlabel('False Positive Rate')\n",
    "    plt.ylabel('True Positive Rate')\n",
    "    plt.title('ROC Curve (with feature selection)')\n",
    "    plt.legend(loc=\"lower right\")\n",
    "    plt.show()\n",
    "\n",
    "def get_Younden_idx(fpr, tpr, threshold):\n",
    "    idx = np.argmax(np.abs(tpr-fpr))\n",
    "    return threshold[idx]\n",
    "    \n",
    "def roc_auc_analysis(clf, dx, dy):\n",
    "    preds = clf.predict_proba(dx) #predict: 0 or 1, predict_proba: [0.8, 0.2], predict probability for each class\n",
    "    preds = list(map(lambda x: x[-1], preds))\n",
    "    fpr, tpr, threshold = roc_curve(dy, preds)\n",
    "    plot_auc_roc(fpr, tpr)\n",
    "    print(\"first three predicted probabilities: \", preds[:3])\n",
    "    print(\"roc_auc_score: \", roc_auc_score(dy, preds))\n",
    "    J  = get_Younden_idx(fpr, tpr, threshold)\n",
    "    print(\"Youden index: \", J)\n",
    "\n",
    "    youden_preds = list(map(lambda x: 1 if x >= J else 0, preds))\n",
    "    print(\"first three youden predicted results: \", youden_preds[:3])\n",
    "    print(\"accuracy after apply youden index: \", accuracy_score(dy, youden_preds))\n",
    "    \n",
    "    if isinstance(clf, LogisticRegression):\n",
    "        cof = clf.coef_.tolist()[0]\n",
    "        cof_idx = list(zip(cof, range(len(cof)))) #get the coefficients\n",
    "        top_5_fea = sorted(cof_idx, key=lambda x: abs(x[0]), reverse=True)[:5]\n",
    "    elif isinstance(clf, RandomForestClassifier):\n",
    "        fea_imp = clf.feature_importances_\n",
    "        top_5_fea = sorted(list(zip(fea_imp, range(len(fea_imp)))), key=lambda x: abs(x[0]), reverse=True)[:5]\n",
    "    else: # SVM\n",
    "        # for SVM with RGB kernel, this is no straightforward way to get feature improtance\n",
    "        # https://stats.stackexchange.com/questions/265656/is-there-a-way-to-determine-the-important-features-weight-for-an-svm-that-uses\n",
    "        pass\n",
    "        top_5_fea = []\n",
    "    print(\"top 5 features: \", list(map(lambda x: (train_xx.columns[x[1]], round(x[0], 4)), top_5_fea)))"
   ]
  },
  {
   "cell_type": "code",
   "execution_count": 27,
   "metadata": {},
   "outputs": [
    {
     "data": {
      "image/png": "[encoded data removed]",
      "text/plain": [
       "<Figure size 640x480 with 1 Axes>"
      ]
     },
     "metadata": {},
     "output_type": "display_data"
    },
    {
     "name": "stdout",
     "output_type": "stream",
     "text": [
      "first three predicted probabilities:  [0.28072908552735065, 0.8076009501187459, 0.26714285714285774]\n",
      "roc_auc_score:  0.5322047244094488\n",
      "Youden index:  0.6055868785238169\n",
      "first three youden predicted results:  [0, 1, 0]\n",
      "accuracy after apply youden index:  0.6282894736842105\n",
      "top 5 features:  [('40480217', 0.2126), ('drug_34', 0.172), ('440409', 0.1475), ('drug_17', 0.1383), ('432303', 0.0993)]\n"
     ]
    }
   ],
   "source": [
    "# RF ROC Curve\n",
    "roc_auc_analysis(best_rf_model, test_xx, test_yy)"
   ]
  },
  {
   "cell_type": "code",
   "execution_count": null,
   "metadata": {},
   "outputs": [],
   "source": []
  }
 ],
 "metadata": {
  "kernelspec": {
   "display_name": "Python 3",
   "language": "python",
   "name": "python3"
  },
  "language_info": {
   "codemirror_mode": {
    "name": "ipython",
    "version": 3
   },
   "file_extension": ".py",
   "mimetype": "text/x-python",
   "name": "python",
   "nbconvert_exporter": "python",
   "pygments_lexer": "ipython3",
   "version": "3.7.3"
  }
 },
 "nbformat": 4,
 "nbformat_minor": 2
}
