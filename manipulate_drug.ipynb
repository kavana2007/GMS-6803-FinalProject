{
 "cells": [
  {
   "cell_type": "code",
   "execution_count": 1,
   "metadata": {},
   "outputs": [],
   "source": [
    "import pandas as pd\n",
    "import numpy as np"
   ]
  },
  {
   "cell_type": "code",
   "execution_count": 2,
   "metadata": {},
   "outputs": [],
   "source": [
    "drug_data = pd.read_csv(\"./../prepared datasets/drug_category.csv\")"
   ]
  },
  {
   "cell_type": "code",
   "execution_count": 3,
   "metadata": {},
   "outputs": [],
   "source": [
    "drug_categories = np.unique(drug_data.drug_category)[:-1]  # remove other\n",
    "patients = np.unique(drug_data.person_id)"
   ]
  },
  {
   "cell_type": "code",
   "execution_count": 4,
   "metadata": {},
   "outputs": [],
   "source": [
    "total = []\n",
    "for i in patients:\n",
    "    pat_info = [i]\n",
    "    data = drug_data.loc[drug_data.person_id == i]\n",
    "    if np.sum(data.diabetes) == 0: # no diabetes, just count\n",
    "        pat_info.append(0)\n",
    "    if np.sum(data.diabetes) != 0: # diabetes, select drug_era_start_date > onset_time\n",
    "        #temp = data.loc[drug_data.drug_era_start_date <= drug_data.onset_time]\n",
    "        pat_info.append(1)\n",
    "    \n",
    "    for drug in drug_categories:\n",
    "        selected = data.loc[data.drug_category == drug]\n",
    "        if selected.shape[0] > 0:\n",
    "            pat_info.append(1)\n",
    "        else:\n",
    "            pat_info.append(0)\n",
    "    total.append(pat_info)\n",
    "\n",
    "colnames = [\"person_id\", \"diabetes\"] + list(drug_categories)\n",
    "data_created = pd.DataFrame(total, columns=colnames)"
   ]
  },
  {
   "cell_type": "code",
   "execution_count": 7,
   "metadata": {},
   "outputs": [],
   "source": [
    "data_created.to_csv(\"./../prepared datasets/drug.csv\", index = False)"
   ]
  },
  {
   "cell_type": "code",
   "execution_count": null,
   "metadata": {},
   "outputs": [],
   "source": []
  }
 ],
 "metadata": {
  "kernelspec": {
   "display_name": "Python 3",
   "language": "python",
   "name": "python3"
  },
  "language_info": {
   "codemirror_mode": {
    "name": "ipython",
    "version": 3
   },
   "file_extension": ".py",
   "mimetype": "text/x-python",
   "name": "python",
   "nbconvert_exporter": "python",
   "pygments_lexer": "ipython3",
   "version": "3.7.7"
  }
 },
 "nbformat": 4,
 "nbformat_minor": 4
}
